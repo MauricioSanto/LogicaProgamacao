{
 "cells": [
  {
   "cell_type": "code",
   "execution_count": null,
   "metadata": {},
   "outputs": [],
   "source": [
    "# Lista\n",
    "\n",
    "lista = [1, 2, 3]\n",
    "lista_nomes = [\"ramon\", \"jose\", \"maria\"]\n",
    "\n",
    "# Como apresentar uma lista inteira\n",
    "print(lista) \n",
    "print(lista_nomes)\n",
    "print(lista_nomes[0])\n"
   ]
  },
  {
   "cell_type": "code",
   "execution_count": null,
   "metadata": {},
   "outputs": [],
   "source": [
    "\n",
    "# Como setar apenas um valor da lista\n",
    "lista = [1, 2, 3]\n",
    "print(lista[0]) # toda lista começa da posição 0\n",
    "print(lista[1])\n",
    "print(lista[2]) # tamanho máximo da lista que criamos na linha 50 \n",
    "print(len(lista)) # imprime a quantidade de itens da lista\n"
   ]
  },
  {
   "cell_type": "code",
   "execution_count": null,
   "metadata": {},
   "outputs": [],
   "source": [
    "\n",
    "# For em uma lista\n",
    "lista_nomes = [\"ramon\", \"jose\", \"maria\"]\n",
    "for nome in lista_nomes:\n",
    "  print(nome)\n"
   ]
  },
  {
   "cell_type": "code",
   "execution_count": null,
   "metadata": {},
   "outputs": [],
   "source": [
    "\n",
    "# Como alterar um valor da lista\n",
    "lista_nomes = [\"artur\", \"jose\", \"maria\"]\n",
    "print(lista_nomes)\n",
    "\n",
    "lista_nomes[2] = \"josefa\"\n",
    "print(lista_nomes)"
   ]
  },
  {
   "cell_type": "code",
   "execution_count": 3,
   "metadata": {},
   "outputs": [
    {
     "name": "stdout",
     "output_type": "stream",
     "text": [
      "3\n"
     ]
    }
   ],
   "source": [
    "\n",
    "# Saber o tamanho da lista\n",
    "lista_nomes = [\"artur\", \"jose\", \"maria\"]\n",
    "print(len(lista_nomes))\n"
   ]
  },
  {
   "cell_type": "code",
   "execution_count": 5,
   "metadata": {},
   "outputs": [
    {
     "name": "stdout",
     "output_type": "stream",
     "text": [
      "['artur', 'jose', 'maria']\n",
      "['artur', 'jose', 'maria', 'Ramon']\n"
     ]
    }
   ],
   "source": [
    "\n",
    "# Como adicionar elementos na lista\n",
    "lista_nomes = [\"artur\", \"jose\", \"maria\"]\n",
    "print(lista_nomes)\n",
    "lista_nomes.append(\"Ramon\")\n",
    "print(lista_nomes)\n"
   ]
  },
  {
   "cell_type": "code",
   "execution_count": 4,
   "metadata": {},
   "outputs": [
    {
     "name": "stdout",
     "output_type": "stream",
     "text": [
      "['artur', 'jose']\n"
     ]
    }
   ],
   "source": [
    "\n",
    "# Como remover um elemento da lista\n",
    "lista_nomes = [\"artur\", \"jose\", \"maria\"]\n",
    "del lista_nomes[2]\n",
    "print(lista_nomes)\n"
   ]
  },
  {
   "cell_type": "code",
   "execution_count": 10,
   "metadata": {},
   "outputs": [
    {
     "name": "stdout",
     "output_type": "stream",
     "text": [
      "Alisson\n"
     ]
    }
   ],
   "source": [
    "# procurar um item da lista e imprimir\n",
    "lista_nomes = [\"artur\",\"josé\",\"Alisson\"]\n",
    "for nome in lista_nomes:\n",
    "   if nome == \"Alisson\":\n",
    "      print(nome)"
   ]
  },
  {
   "cell_type": "code",
   "execution_count": 4,
   "metadata": {},
   "outputs": [
    {
     "name": "stdout",
     "output_type": "stream",
     "text": [
      "[1, 2, 3]\n",
      "4\n",
      "Seu carrinho de compras é: ['Maçã', 'Coca-cola', 'Biscoito']\n"
     ]
    }
   ],
   "source": [
    "\n",
    "# Matriz (lista dentro de uma lista)\n",
    "matriz = [[1, 2, 3],\n",
    "          [4, 5, 6],\n",
    "          [7, 8, 9]]\n",
    "\n",
    "# Imprimindo a linha 0 = [1, 2, 3]\n",
    "print(matriz[0])\n",
    "\n",
    "# Imprimindo o valor 1 = \"2\" da linha 0 = [1, 2, 3]\n",
    "print(matriz[1][0])\n",
    "\n",
    "# Exemplo de listas\n",
    "carrinho_de_compras = []\n",
    "\n",
    "# [nome do produto, quantidade, valor unitário]\n",
    "produto1 = [\"Maçã\", 2, 5.5]\n",
    "carrinho_de_compras.append(produto1[0]) # Adicionando o produto 1 no carrinho\n",
    "\n",
    "produto2 = [\"Coca-cola\", 1, 7.5]\n",
    "carrinho_de_compras.append(produto2[0]) # Adicionando o produto 2 no carrinho\n",
    "\n",
    "produto3 = [\"Biscoito\", 3, 3.5]\n",
    "carrinho_de_compras.append(produto3[0]) # Adicionando o produto 3 no carrinho\n",
    "\n",
    "print(f\"Seu carrinho de compras é: {carrinho_de_compras}\")"
   ]
  }
 ],
 "metadata": {
  "kernelspec": {
   "display_name": "Python 3",
   "language": "python",
   "name": "python3"
  },
  "language_info": {
   "codemirror_mode": {
    "name": "ipython",
    "version": 3
   },
   "file_extension": ".py",
   "mimetype": "text/x-python",
   "name": "python",
   "nbconvert_exporter": "python",
   "pygments_lexer": "ipython3",
   "version": "3.12.0"
  },
  "orig_nbformat": 4
 },
 "nbformat": 4,
 "nbformat_minor": 2
}
