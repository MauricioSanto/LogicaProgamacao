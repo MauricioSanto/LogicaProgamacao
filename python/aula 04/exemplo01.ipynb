{
 "cells": [
  {
   "cell_type": "code",
   "execution_count": null,
   "metadata": {},
   "outputs": [],
   "source": [
    "# For simples\n",
    "\n",
    "for x in [1, 2, 3]:\n",
    "  print(x)\n",
    "# For usando range - 1 a 10\n",
    "\n",
    "for x in range(1, 11):\n",
    "  print(x)\n",
    "# For usando range invertido - 10 a 1\n",
    "\n",
    "for x in range(10, 0, -1):\n",
    "  print(x)\n",
    "  "
   ]
  }
 ],
 "metadata": {
  "language_info": {
   "name": "python"
  }
 },
 "nbformat": 4,
 "nbformat_minor": 2
}
