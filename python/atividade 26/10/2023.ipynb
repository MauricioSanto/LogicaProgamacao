{
 "cells": [
  {
   "cell_type": "code",
   "execution_count": 49,
   "metadata": {},
   "outputs": [
    {
     "name": "stdout",
     "output_type": "stream",
     "text": [
      "8\n"
     ]
    }
   ],
   "source": [
    "#Resposta 01\n",
    "print(3+5)"
   ]
  },
  {
   "cell_type": "code",
   "execution_count": 48,
   "metadata": {},
   "outputs": [
    {
     "name": "stdout",
     "output_type": "stream",
     "text": [
      "Olá, Mundo!\n"
     ]
    }
   ],
   "source": [
    "#Resposta 02\n",
    "print(\"Olá, Mundo!\")"
   ]
  },
  {
   "cell_type": "code",
   "execution_count": 47,
   "metadata": {},
   "outputs": [
    {
     "name": "stdout",
     "output_type": "stream",
     "text": [
      "30\n"
     ]
    }
   ],
   "source": [
    "#Resposta 03\n",
    "idade = 30\n",
    "print(idade)"
   ]
  },
  {
   "cell_type": "code",
   "execution_count": 46,
   "metadata": {},
   "outputs": [
    {
     "name": "stdout",
     "output_type": "stream",
     "text": [
      "5\n"
     ]
    }
   ],
   "source": [
    "#Resposta 04\n",
    "n1 = int(input(\"Digite um número qualquer?\"))\n",
    "print(n1)"
   ]
  },
  {
   "cell_type": "code",
   "execution_count": 34,
   "metadata": {},
   "outputs": [
    {
     "name": "stdout",
     "output_type": "stream",
     "text": [
      "Olá, Alice!\n"
     ]
    }
   ],
   "source": [
    "#resposta 05\n",
    "nome = \"Alice\"\n",
    "print(f\"Olá, {nome}!\")"
   ]
  },
  {
   "cell_type": "code",
   "execution_count": 37,
   "metadata": {},
   "outputs": [
    {
     "name": "stdout",
     "output_type": "stream",
     "text": [
      "True\n"
     ]
    }
   ],
   "source": [
    "#Resposta 06\n",
    "\n",
    "print(7>3)\n"
   ]
  },
  {
   "cell_type": "code",
   "execution_count": 38,
   "metadata": {},
   "outputs": [
    {
     "name": "stdout",
     "output_type": "stream",
     "text": [
      "Menor de idade\n"
     ]
    }
   ],
   "source": [
    "#Resposta 07\n",
    "idade = int(input(\"Insira sua Idade\"))\n",
    "if idade >= 18:\n",
    "    print(\"Maior de idade\")\n",
    "else:\n",
    "    print(\"Menor de idade\")"
   ]
  },
  {
   "cell_type": "code",
   "execution_count": 41,
   "metadata": {},
   "outputs": [
    {
     "name": "stdout",
     "output_type": "stream",
     "text": [
      "3\n",
      "POSITIVO\n"
     ]
    }
   ],
   "source": [
    "#Resposta 08\n",
    "n1 = int(input(\"Digite um Número\"))\n",
    "print(n1)\n",
    "if n1<0:\n",
    "    print(\"NEGATIVO\")\n",
    "else:\n",
    "    print(\"POSITIVO\")    "
   ]
  },
  {
   "cell_type": "code",
   "execution_count": 42,
   "metadata": {},
   "outputs": [
    {
     "name": "stdout",
     "output_type": "stream",
     "text": [
      "8\n",
      "Aprovado\n"
     ]
    }
   ],
   "source": [
    "#Resposta 09\n",
    "\n",
    "h1 = int(input(\"Insira uma Nota de 0 a 10\")) \n",
    "print(h1)\n",
    "if h1>=11:\n",
    "    print(\"Número incorreto\")\n",
    "elif h1 >= 6:\n",
    "    print(\"Aprovado\")\n",
    "else:\n",
    "    print(\"Reprovado\")    "
   ]
  },
  {
   "cell_type": "code",
   "execution_count": 45,
   "metadata": {},
   "outputs": [
    {
     "name": "stdout",
     "output_type": "stream",
     "text": [
      "Maior de idade\n"
     ]
    }
   ],
   "source": [
    "#Resposta 10\n",
    "\n",
    "idade = 25\n",
    "if idade >=18:\n",
    "    print(\"Maior de idade\")\n",
    "else: \n",
    "\n",
    "    print(\"Menor de idade\")   \n"
   ]
  },
  {
   "cell_type": "code",
   "execution_count": 1,
   "metadata": {},
   "outputs": [
    {
     "name": "stdout",
     "output_type": "stream",
     "text": [
      "Meu nome é: Mauricio ferreira dos santos, A minha classe é: c3 e o meu turno é: manhã\n",
      "As minhas notas no 1° Bimestre são: 8 e 9\n",
      "As minhas notas no 2° Bimestre são: 10 e 8\n",
      "A média do 1° Bimestre é: 8.5\n",
      "A média do 2° Bimestre é: 9.0\n",
      "Aprovado\n"
     ]
    }
   ],
   "source": [
    "#treinamento\n",
    "#Boletim Escolar\n",
    "nome = input(\"Digite seu nome:\") \n",
    "classe= input(\"Qual a sua classe:\") \n",
    "turno = input(\"Qual o seu turno\")\n",
    "print(f\"Meu nome é: {nome}, A minha classe é: {classe} e o meu turno é: {turno}\")\n",
    "n1=int(input(\"Digite a primeira Nota\")) \n",
    "n2=int(input(\"Digite a segunda Nota\")) \n",
    "n3=int(input(\"Digite a terceira Nota\")) \n",
    "n4=int(input(\"Digite a quarta Nota\")) \n",
    "b1=(n1+n2)/2\n",
    "b2=(n3+n4)/2\n",
    "media_geral=b1+b2\n",
    "print(f\"As minhas notas no 1° Bimestre são: {n1} e {n2}\") \n",
    "print(f\"As minhas notas no 2° Bimestre são: {n3} e {n4}\") \n",
    "print(f\"A média do 1° Bimestre é: {b1}\") \n",
    "print(f\"A média do 2° Bimestre é: {b2}\") \n",
    "if media_geral>=17:\n",
    "    print(\"Aprovado\") \n",
    "else:\n",
    "    print(\"Reprovado\")    \n"
   ]
  }
 ],
 "metadata": {
  "kernelspec": {
   "display_name": "Python 3",
   "language": "python",
   "name": "python3"
  },
  "language_info": {
   "codemirror_mode": {
    "name": "ipython",
    "version": 3
   },
   "file_extension": ".py",
   "mimetype": "text/x-python",
   "name": "python",
   "nbconvert_exporter": "python",
   "pygments_lexer": "ipython3",
   "version": "3.12.0"
  }
 },
 "nbformat": 4,
 "nbformat_minor": 2
}
