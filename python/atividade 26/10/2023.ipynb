{
 "cells": [
  {
   "cell_type": "code",
   "execution_count": null,
   "metadata": {},
   "outputs": [],
   "source": [
    "#Resposta 01\n",
    "print(3+5)"
   ]
  },
  {
   "cell_type": "code",
   "execution_count": null,
   "metadata": {},
   "outputs": [],
   "source": [
    "#Resposta 02\n",
    "print(\"Olá, Mundo!\")"
   ]
  },
  {
   "cell_type": "code",
   "execution_count": null,
   "metadata": {},
   "outputs": [],
   "source": [
    "#Resposta 03\n",
    "idade = 30\n",
    "print(idade)"
   ]
  },
  {
   "cell_type": "code",
   "execution_count": null,
   "metadata": {},
   "outputs": [],
   "source": [
    "#Resposta 04\n",
    "n1 = int(input(\"Digite um número qualquer?\"))\n",
    "print(n1)"
   ]
  },
  {
   "cell_type": "code",
   "execution_count": null,
   "metadata": {},
   "outputs": [],
   "source": [
    "#resposta 05\n",
    "nome = \"Alice\"\n",
    "print(f\"Olá, {nome}\")"
   ]
  },
  {
   "cell_type": "code",
   "execution_count": null,
   "metadata": {},
   "outputs": [],
   "source": [
    "#Resposta 06\n",
    "m = 7>3\n",
    "print(m)"
   ]
  },
  {
   "cell_type": "code",
   "execution_count": null,
   "metadata": {},
   "outputs": [],
   "source": [
    "#Resposta 07\n",
    "idade = int(input(\"Insira sua Idade\"))\n",
    "if idade >= 18:\n",
    "    print(\"Maior de idade\")"
   ]
  },
  {
   "cell_type": "code",
   "execution_count": null,
   "metadata": {},
   "outputs": [],
   "source": [
    "#Resposta 08\n",
    "n1 = int(input(\"Digite um Número\"))\n",
    "if n1<0:\n",
    "    print(\"NEGATIVO\")\n",
    "else:\n",
    "    print(\"POSITIVO\")    "
   ]
  },
  {
   "cell_type": "code",
   "execution_count": null,
   "metadata": {},
   "outputs": [],
   "source": [
    "#Resposta 09\n",
    "h1 = int(input(\"Insira uma Nota de 0 a 10\"))\n",
    "if h1 >= 6: \n",
    "    print(\"Aprovado\")\n",
    "elif h1<6:\n",
    "    print(\"Reprovado\")    "
   ]
  },
  {
   "cell_type": "code",
   "execution_count": 16,
   "metadata": {},
   "outputs": [
    {
     "name": "stdout",
     "output_type": "stream",
     "text": [
      "Maior de idade\n"
     ]
    }
   ],
   "source": [
    "#Resposta 10\n",
    "idade = 25\n",
    "if idade < 18:\n",
    "    print(\"Menor de idade\")\n",
    "elif idade>=18:\n",
    "    print(\"Maior de idade\")    "
   ]
  }
 ],
 "metadata": {
  "kernelspec": {
   "display_name": "Python 3",
   "language": "python",
   "name": "python3"
  },
  "language_info": {
   "codemirror_mode": {
    "name": "ipython",
    "version": 3
   },
   "file_extension": ".py",
   "mimetype": "text/x-python",
   "name": "python",
   "nbconvert_exporter": "python",
   "pygments_lexer": "ipython3",
   "version": "3.12.0"
  }
 },
 "nbformat": 4,
 "nbformat_minor": 2
}
