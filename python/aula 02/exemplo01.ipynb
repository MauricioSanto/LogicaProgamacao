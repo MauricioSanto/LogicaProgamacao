{
 "cells": [
  {
   "cell_type": "code",
   "execution_count": null,
   "metadata": {},
   "outputs": [],
   "source": [
    "Entrada de dados\n",
    "\n",
    "nome = input(\"Digite seu nome: \")          # Por padrão o input trás texto\n",
    "idade = int(input(\"Digite a sua idade: \")) # Temos que converter a idade que foi passada em texto para inteiro\n",
    "nota = int(input(\"Digite sua Nota: \"))     # Convertendo também a nota para inteiro\n",
    "a = 10\n",
    "b = 20\n",
    "\n",
    "# Operadores relacionais\n",
    "\n",
    "\n",
    "print(a==b)     # a \"é igual a\" b?\n",
    "print(a>b)      # a \"é maior que\" b?\n",
    "print(a<b)      # a \"é menor que\" b?\n",
    "print(a!=b)     # a \"é diferente a\" b?\n",
    "print(a>=b)     # a \"é maior ou igual que\" b?\n",
    "print(a<=b)     # a \"é menor ou igual que\" b?\n",
    "a = 10\n",
    "b = 20\n",
    "\n",
    "# Operadores lógicos\n",
    "\n",
    "print(a==b and 2*a>b)   # a \"é igual a\" b \"e\" 2*a \"é maior que\" b?\n",
    "print(a==b or 2*a>b)    # a \"é igual a\" b \"ou\" 2*a \"é maior que\" b?\n",
    "print(not a>b)          # a \"NÃO é maior que\" b?\n",
    "# Estrutura Condicional IF\n",
    "\n",
    "idade = 18\n",
    "\n",
    "if idade >= 18:\n",
    "  print(\"De maior\")\n",
    "# Estrutura Condicional IF - ELSE\n",
    "\n",
    "nota = 6\n",
    "\n",
    "if nota >= 7:\n",
    "  print(\"Aprovado\")\n",
    "else:\n",
    "  print(\"Reprovado\")\n",
    "# Estrutura Condicional IF - ELIF - ELSE\n",
    "\n",
    "media = 7\n",
    "\n",
    "if media==10:\n",
    "  print(\"Aprovado e laureado\")\n",
    "elif media>=9 and media<10:\n",
    "  print(\"Aprovado com honra ao mérito\")\n",
    "elif media>=7:\n",
    "  print(\"Aprovado\")\n",
    "elif media>=6:\n",
    "  print(\"Prova final\")\n",
    "elif media>=4:\n",
    "  print(\"Recuperação\")\n",
    "else:\n",
    "  print(\"Reprovado\")"
   ]
  },
  {
   "cell_type": "code",
   "execution_count": 12,
   "metadata": {},
   "outputs": [
    {
     "name": "stdout",
     "output_type": "stream",
     "text": [
      "Meu nome é: Mauricio, eu tenho 35 anos e minha média é: 10.0\n",
      "A cor dos meus olhos são: preto\n",
      "aprovado\n"
     ]
    }
   ],
   "source": [
    "nome=input(\"Digite seu nome: \")          # Por padrão o input trás texto\n",
    "cor=input(\"Digite a cor dos seus Olhos\")\n",
    "idade=int(input(\"Digite a sua idade: \")) # Temos que converter a idade que foi passada em texto para inteiro\n",
    "nota1=int(input(\"Digite sua Nota: \"))    # Convertendo também a nota para inteiro\n",
    "nota2=int(input(\"Digite sua Nota: \"))    # Convertendo também a nota para inteiro\n",
    "media=(nota1+nota2)/2\n",
    "print(f\"Meu nome é: {nome}, eu tenho {idade} anos e minha média é: {media}\")  # print formatado usando as três variáveis\n",
    "print(f\"A cor dos meus olhos são: {cor}\")\n",
    "if media >=7 :                          #estrutura condicional if\n",
    "    print (\"aprovado\")\n",
    "else:\n",
    "    print (\"reprovado\")    \n"
   ]
  },
  {
   "cell_type": "code",
   "execution_count": 10,
   "metadata": {},
   "outputs": [
    {
     "name": "stdout",
     "output_type": "stream",
     "text": [
      "O primeiro número é: 10, O segundo número é: 10 a soma entre eles é 20\n",
      "Minha média é: 10.0\n",
      "falso\n",
      "aprovado\n"
     ]
    }
   ],
   "source": [
    "#calculadora\n",
    "n1 = int(input(\"Digite o primeiro número\"))\n",
    "n2 = int(input(\"Digie o segundo número\"))\n",
    "soma = n1+n2 \n",
    "media = (n1+n2)/2\n",
    "print(f\"O primeiro número é: {n1}, O segundo número é: {n2} a soma entre eles é {soma}\")\n",
    "print(f\"Minha média é: {media}\")\n",
    "if n1>n2 :\n",
    "    print(\"verdadeiro\")\n",
    "else:\n",
    "    print(\"falso\")  \n",
    "if media >=10 :\n",
    "    print(\"aprovado\")\n",
    "else:\n",
    "    print(\"reprovado\")     \n"
   ]
  }
 ],
 "metadata": {
  "kernelspec": {
   "display_name": "Python 3",
   "language": "python",
   "name": "python3"
  },
  "language_info": {
   "codemirror_mode": {
    "name": "ipython",
    "version": 3
   },
   "file_extension": ".py",
   "mimetype": "text/x-python",
   "name": "python",
   "nbconvert_exporter": "python",
   "pygments_lexer": "ipython3",
   "version": "3.12.0"
  }
 },
 "nbformat": 4,
 "nbformat_minor": 2
}
