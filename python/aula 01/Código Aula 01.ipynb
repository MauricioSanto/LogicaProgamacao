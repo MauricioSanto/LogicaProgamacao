{
 "cells": [
  {
   "cell_type": "code",
   "execution_count": null,
   "metadata": {},
   "outputs": [],
   "source": [
    "# Print simples\n",
    "\n",
    "print(\"olá mundo\")"
   ]
  },
  {
   "cell_type": "code",
   "execution_count": null,
   "metadata": {},
   "outputs": [],
   "source": [
    "# Variáveis\n",
    "\n",
    "inteiro = 123               # Tipo: int \n",
    "texto = \"Mauricio Ferreira\"    # Tipo: str\n",
    "real = 10.5                 # Tipo: float\n",
    "boleano = True              # Tipo: bool"
   ]
  },
  {
   "cell_type": "code",
   "execution_count": null,
   "metadata": {},
   "outputs": [],
   "source": [
    "# Print formatado\n",
    "\n",
    "nome = \"Mauricio Ferreira\"\n",
    "idade = 45\n",
    "print(f\"Olá {nome}, você tem {idade} anos\")"
   ]
  },
  {
   "cell_type": "code",
   "execution_count": null,
   "metadata": {},
   "outputs": [],
   "source": [
    "# Conversão de variáveis\n",
    "\n",
    "x = str(123)        # Inserindo número porém convertendo para texto\n",
    "print(x)\n",
    "print(type(x))\n",
    "\n",
    "y = int(\"123\")    # Inserindo texto porém convertendo para número inteiro\n",
    "print(y)\n",
    "print(type(y))\n",
    "\n",
    "z = float(\"12.3\")    # Inserindo texto porém convertendo para número racionais(fracionados)\n",
    "print(z)\n",
    "print(type(z))"
   ]
  },
  {
   "cell_type": "code",
   "execution_count": null,
   "metadata": {},
   "outputs": [],
   "source": [
    "# Cálculo matemático\n",
    "\n",
    "soma = 1 + 1\n",
    "print(soma)\n",
    "print(1+1)\n",
    "\n",
    "subtracao = 2 - 1\n",
    "print(subtracao)\n",
    "\n",
    "multiplicacao = 2 * 7\n",
    "print(multiplicacao)\n",
    "\n",
    "divisao = 10 / 2\n",
    "print(divisao)\n",
    "\n",
    "divisao_inteira = 10 // 3   # Resultado da divisão sem valores fracionados\n",
    "print(divisao_inteira)\n",
    "\n",
    "modulo = 10 % 2             # Resto da divisão\n",
    "print(modulo)\n",
    "\n",
    "exponenciacao = 2 ** 3      # 2x2x2\n",
    "print(exponenciacao)"
   ]
  }
 ],
 "metadata": {
  "kernelspec": {
   "display_name": "Python 3",
   "language": "python",
   "name": "python3"
  },
  "language_info": {
   "codemirror_mode": {
    "name": "ipython",
    "version": 3
   },
   "file_extension": ".py",
   "mimetype": "text/x-python",
   "name": "python",
   "nbconvert_exporter": "python",
   "pygments_lexer": "ipython3",
   "version": "3.12.0"
  },
  "orig_nbformat": 4
 },
 "nbformat": 4,
 "nbformat_minor": 2
}
