{
 "cells": [
  {
   "cell_type": "code",
   "execution_count": null,
   "metadata": {},
   "outputs": [],
   "source": [
    "#while repetição\n",
    "x=0\n",
    "while True:\n",
    "    print(x)\n",
    "    x+=1\n"
   ]
  },
  {
   "cell_type": "code",
   "execution_count": null,
   "metadata": {},
   "outputs": [],
   "source": [
    "#contador\n",
    "somatorio=0\n",
    "contador=1\n",
    "\n",
    "while contador <=10:\n",
    "    valor = int(input(\"digite um valor\"))\n",
    "    somatorio = somatorio + valor\n",
    "    contador = somatorio + 1 \n",
    "print(f\"O somatorio total dos valores é de: {somatorio}\")\n",
    "\n",
    "\n"
   ]
  },
  {
   "cell_type": "code",
   "execution_count": null,
   "metadata": {},
   "outputs": [],
   "source": [
    "# treino 01/11/23\n",
    "m=10\n",
    "while m <=15: \n",
    "    print(f\"Olá mundo, {m}\")\n",
    "    m = m+1\n",
    "    \n",
    "    "
   ]
  },
  {
   "cell_type": "code",
   "execution_count": null,
   "metadata": {},
   "outputs": [],
   "source": [
    "# treino 01/11/23\n",
    "x=1\n",
    "while x<=5:\n",
    "     print(x)\n",
    "     x = x+1\n"
   ]
  },
  {
   "cell_type": "code",
   "execution_count": 3,
   "metadata": {},
   "outputs": [
    {
     "name": "stdout",
     "output_type": "stream",
     "text": [
      "O somatorio total dos valores é de: 15\n"
     ]
    }
   ],
   "source": [
    "#progama de entrada de dados sequêncial -01/11/23\n",
    "soma = 0\n",
    "contador = 1\n",
    "while contador <=5:\n",
    "    valor = int(input(\"Insira um Número:\"))\n",
    "    contador = contador + 1\n",
    "    soma = soma + valor\n",
    "print(f\"O somatorio total dos valores é de: {soma}\")\n",
    "\n",
    "\n",
    "\n",
    "\n",
    "\n",
    "\n",
    "\n",
    "\n",
    "\n"
   ]
  },
  {
   "cell_type": "code",
   "execution_count": 1,
   "metadata": {},
   "outputs": [
    {
     "name": "stdout",
     "output_type": "stream",
     "text": [
      "5\n",
      "11\n"
     ]
    }
   ],
   "source": [
    "#programa de repetição indefinidamente- 01/11/23\n",
    "v = 0\n",
    "while v <= 10: \n",
    "   v = int(input(\"Digite um valor\"))\n",
    "   print(v)\n",
    "    \n",
    "\n",
    "\n",
    "\n",
    "\n",
    "\n",
    "\n",
    "\n",
    "\n"
   ]
  },
  {
   "cell_type": "code",
   "execution_count": null,
   "metadata": {},
   "outputs": [],
   "source": [
    "#atividade 03/11/23 resposta 01\n",
    "contador = 1\n",
    "valor = 0 \n",
    "total = 0\n",
    "while contador <= 5 :\n",
    "    contador = contador + 1\n",
    "    valor = int(input(\"Digite um valor:\")) \n",
    "    print(valor)\n",
    "    if valor % 2 == 0 :\n",
    "        total = total + valor \n",
    "print (f\" O valor do somatório dos Números pares é: {total}\")\n",
    "\n",
    "       \n",
    "       \n",
    "       \n",
    "       \n",
    "    \n",
    "\n",
    "\n",
    "      "
   ]
  },
  {
   "cell_type": "code",
   "execution_count": null,
   "metadata": {},
   "outputs": [],
   "source": [
    "#resposta 02\n",
    "contador = 1\n",
    "mn = 0\n",
    "while contador <= 5 :\n",
    "    n1 = int(input(\"Insira um Número\")) \n",
    "    print(n1) \n",
    "    if n1 > mn :\n",
    "        mn = n1 \n",
    "    contador = contador + 1\n",
    "print(\"O maior número Inserido é: \", mn )        \n",
    "\n",
    "    \n",
    "   \n",
    "    \n",
    "\n"
   ]
  },
  {
   "cell_type": "code",
   "execution_count": 1,
   "metadata": {},
   "outputs": [
    {
     "name": "stdout",
     "output_type": "stream",
     "text": [
      "1\n",
      "3\n",
      "5\n",
      "7\n",
      "9\n"
     ]
    }
   ],
   "source": [
    "#Resposta 03 - imprimindo só impares\n",
    "cont = 1\n",
    "while cont <= 10:\n",
    "    if cont % 2 != 0 : \n",
    "       print(cont)\n",
    "    cont = cont + 1\n",
    "\n"
   ]
  },
  {
   "cell_type": "code",
   "execution_count": null,
   "metadata": {},
   "outputs": [],
   "source": [
    "#Resposta 04 - listar uma sequência de números até o número digitado, dependendo da comparação.\n",
    "cont = 0\n",
    "v = int(input(\"Digite um numero\"))\n",
    "while cont <=v : \n",
    "    print(cont)\n",
    "    cont = cont + 1 "
   ]
  },
  {
   "cell_type": "code",
   "execution_count": 16,
   "metadata": {},
   "outputs": [
    {
     "name": "stdout",
     "output_type": "stream",
     "text": [
      "O antecessor de 8 é  7  e o seu sucessor é 9\n"
     ]
    }
   ],
   "source": [
    "# Atividade 04/11/2023 \n",
    "# Resposta 01 \n",
    "n = int(input(\"Digite um valor:\"))\n",
    "print (f\"O antecessor de {n} é  {n -1}  e o seu sucessor é {n+1}\")"
   ]
  },
  {
   "cell_type": "code",
   "execution_count": 14,
   "metadata": {},
   "outputs": [
    {
     "name": "stdout",
     "output_type": "stream",
     "text": [
      "A sua média final é: 8\n"
     ]
    }
   ],
   "source": [
    "# Resposta  02\n",
    "cont = 1\n",
    "media = 0\n",
    "while cont <= 3 :\n",
    "    nota = int(input(f\"Insira a nota {cont}\"))\n",
    "    media = media + nota\n",
    "    cont = cont +1 \n",
    "print (\"A sua média final é:\", media//3)"
   ]
  },
  {
   "cell_type": "code",
   "execution_count": null,
   "metadata": {},
   "outputs": [],
   "source": [
    "# resposta 03\n",
    "cont = 0\n",
    "while cont<=10:\n",
    "    print(f\"7 x {cont} = {7*cont}\")\n",
    "    cont = cont + 1\n"
   ]
  },
  {
   "cell_type": "code",
   "execution_count": null,
   "metadata": {},
   "outputs": [],
   "source": [
    "# Resposta 04 \n",
    "real = float(input(\"Digite o valor em real(R$)\"))\n",
    "print(f\"O valor em Dolar é {real/4.9}\")"
   ]
  },
  {
   "cell_type": "code",
   "execution_count": null,
   "metadata": {},
   "outputs": [],
   "source": [
    "# Atividades do dia 07/11/2023 \n",
    "#Resposta 01\n",
    "for x in range (1,6):\n",
    "    print(x)\n",
    "\n",
    "\n"
   ]
  },
  {
   "cell_type": "code",
   "execution_count": null,
   "metadata": {},
   "outputs": [],
   "source": [
    "#Resposta 02\n",
    "for x in range (0,11,2):\n",
    "    print(x)"
   ]
  },
  {
   "cell_type": "code",
   "execution_count": null,
   "metadata": {},
   "outputs": [],
   "source": [
    "#Resposta 03\n",
    "lista = [\"maçã\",\"laranja\",\"uva\"] \n",
    "for nome in lista:\n",
    "    print(nome)\n",
    "    \n",
    "    \n"
   ]
  },
  {
   "cell_type": "code",
   "execution_count": null,
   "metadata": {},
   "outputs": [],
   "source": [
    "#resposta 03 - versao 2.0\n",
    "for x in (\"maçã\",\"laranja\",\"uva\"):\n",
    "    print(x)"
   ]
  },
  {
   "cell_type": "code",
   "execution_count": null,
   "metadata": {},
   "outputs": [],
   "source": [
    "#Resposta 04\n",
    "for x in range (10,22,2):\n",
    "    print(x)"
   ]
  },
  {
   "cell_type": "code",
   "execution_count": null,
   "metadata": {},
   "outputs": [],
   "source": [
    "#Resposta 05\n",
    "for x in range (1,11,):\n",
    "    if x != 7:\n",
    "        print(x)"
   ]
  },
  {
   "cell_type": "code",
   "execution_count": null,
   "metadata": {},
   "outputs": [],
   "source": [
    "#Resposta 06\n",
    "\n",
    "for X in \"abacaxi\":\n",
    "    print(X)\n",
    "    if X == \"c\":\n",
    "        break"
   ]
  },
  {
   "cell_type": "code",
   "execution_count": null,
   "metadata": {},
   "outputs": [],
   "source": [
    "#Resposta 07\n",
    "lista = [10,5,3,-7,2,-8]\n",
    "for n in lista:\n",
    "    if n < 0:\n",
    "        break\n",
    "    print(n)"
   ]
  },
  {
   "cell_type": "code",
   "execution_count": 37,
   "metadata": {},
   "outputs": [
    {
     "name": "stdout",
     "output_type": "stream",
     "text": [
      "java\n",
      "c++\n",
      "Python\n"
     ]
    }
   ],
   "source": [
    "#Resposta 08\n",
    "lista = [\"java\",\"c++\",\"Python\",\"javascript\",\"ruby\"] \n",
    "for nome in lista:\n",
    "    print(nome)\n",
    "    if nome == \"Python\":\n",
    "        break"
   ]
  },
  {
   "cell_type": "code",
   "execution_count": 40,
   "metadata": {},
   "outputs": [
    {
     "name": "stdout",
     "output_type": "stream",
     "text": [
      "java\n",
      "c++\n",
      "Python\n"
     ]
    }
   ],
   "source": [
    "# Resposta 08 versão 2.0\n",
    "for nome in  [\"java\",\"c++\",\"Python\",\"javascript\",\"ruby\"]:\n",
    "    print(nome)\n",
    "    if nome == \"Python\":\n",
    "        break\n",
    "    \n"
   ]
  },
  {
   "cell_type": "code",
   "execution_count": 41,
   "metadata": {},
   "outputs": [
    {
     "name": "stdout",
     "output_type": "stream",
     "text": [
      "15\n",
      "18\n"
     ]
    }
   ],
   "source": [
    "# Resposta 09\n",
    "for x in [15,18,25,30,10,5]:\n",
    "    if x > 20:\n",
    "        break\n",
    "    print(x)\n"
   ]
  },
  {
   "cell_type": "code",
   "execution_count": 1,
   "metadata": {},
   "outputs": [
    {
     "name": "stdout",
     "output_type": "stream",
     "text": [
      "{'carro': 'preto', 'valor': '1500'}\n",
      "{'carro': 'preto', 'valor': '1500', 'Ano': 1986}\n"
     ]
    }
   ],
   "source": [
    "#Atividade 01 9/11/2023\n",
    "Dicio = {\"carro\":\"preto\",\"valor\":\"1500\"} \n",
    "print(Dicio)\n",
    "Dicio [\"Ano\"] = 1986\n",
    "print(Dicio)\n"
   ]
  },
  {
   "cell_type": "code",
   "execution_count": 2,
   "metadata": {},
   "outputs": [
    {
     "name": "stdout",
     "output_type": "stream",
     "text": [
      "{'casa': 'verde', 'cor': 'branca', 'porta': 'azul'}\n",
      "{'cor': 'branca', 'porta': 'azul'}\n"
     ]
    }
   ],
   "source": [
    "#Atividade 02\n",
    "Dicio = {\"casa\":\"verde\",\"cor\":\"branca\",\"porta\":\"azul\"}\n",
    "print(Dicio)\n",
    "Dicio.pop(\"casa\")\n",
    "print(Dicio)"
   ]
  }
 ],
 "metadata": {
  "kernelspec": {
   "display_name": "Python 3",
   "language": "python",
   "name": "python3"
  },
  "language_info": {
   "codemirror_mode": {
    "name": "ipython",
    "version": 3
   },
   "file_extension": ".py",
   "mimetype": "text/x-python",
   "name": "python",
   "nbconvert_exporter": "python",
   "pygments_lexer": "ipython3",
   "version": "3.12.0"
  }
 },
 "nbformat": 4,
 "nbformat_minor": 2
}
