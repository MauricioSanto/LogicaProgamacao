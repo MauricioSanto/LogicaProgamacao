{
 "cells": [
  {
   "cell_type": "code",
   "execution_count": null,
   "metadata": {},
   "outputs": [],
   "source": [
    "#while repetição\n",
    "x=0\n",
    "while True:\n",
    "    print(x)\n",
    "    x+=1\n"
   ]
  },
  {
   "cell_type": "code",
   "execution_count": null,
   "metadata": {},
   "outputs": [],
   "source": [
    "#contador\n",
    "somatorio=0\n",
    "contador=1\n",
    "\n",
    "while contador <=10:\n",
    "    valor = int(input(\"digite um valor\"))\n",
    "    somatorio = somatorio + valor\n",
    "    contador = somatorio + 1 \n",
    "print(f\"O somatorio total dos valores é de: {somatorio}\")\n",
    "\n",
    "\n"
   ]
  },
  {
   "cell_type": "code",
   "execution_count": 46,
   "metadata": {},
   "outputs": [
    {
     "name": "stdout",
     "output_type": "stream",
     "text": [
      "Olá mundo, 10\n",
      "Olá mundo, 11\n",
      "Olá mundo, 12\n",
      "Olá mundo, 13\n",
      "Olá mundo, 14\n",
      "Olá mundo, 15\n"
     ]
    }
   ],
   "source": [
    "# treino 01/11/23\n",
    "m=10\n",
    "while m <=15: \n",
    "    print(f\"Olá mundo, {m}\")\n",
    "    m = m+1\n",
    "    \n",
    "    "
   ]
  },
  {
   "cell_type": "code",
   "execution_count": null,
   "metadata": {},
   "outputs": [],
   "source": [
    "# treino 01/11/23\n",
    "x=1\n",
    "while x<=5:\n",
    "     print(x)\n",
    "     x = x+1\n"
   ]
  },
  {
   "cell_type": "code",
   "execution_count": null,
   "metadata": {},
   "outputs": [],
   "source": [
    "#progama 01 -01/11/23\n",
    "soma = 0\n",
    "contador = 1\n",
    "while contador <=5:\n",
    "    valor = int(input(\"Insira um Número:\"))\n",
    "    contador = contador + 1\n",
    "    soma = soma + valor\n",
    "print(f\"O somatorio total dos valores é de: {soma}\")\n",
    "\n",
    "\n",
    "\n",
    "\n",
    "\n",
    "\n",
    "\n",
    "\n",
    "\n"
   ]
  },
  {
   "cell_type": "code",
   "execution_count": null,
   "metadata": {},
   "outputs": [],
   "source": [
    "#programa 02 - 01/11/23\n",
    "v = 0\n",
    "while v <= 10: \n",
    "   v = int(input(\"Digite um valor\"))\n",
    "   print(v)\n",
    "    \n",
    "\n",
    "\n",
    "\n",
    "\n",
    "\n",
    "\n",
    "\n",
    "\n"
   ]
  }
 ],
 "metadata": {
  "kernelspec": {
   "display_name": "Python 3",
   "language": "python",
   "name": "python3"
  },
  "language_info": {
   "codemirror_mode": {
    "name": "ipython",
    "version": 3
   },
   "file_extension": ".py",
   "mimetype": "text/x-python",
   "name": "python",
   "nbconvert_exporter": "python",
   "pygments_lexer": "ipython3",
   "version": "3.12.0"
  }
 },
 "nbformat": 4,
 "nbformat_minor": 2
}
