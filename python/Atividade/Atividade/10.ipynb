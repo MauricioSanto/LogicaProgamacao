{
 "cells": [
  {
   "cell_type": "code",
   "execution_count": 3,
   "metadata": {},
   "outputs": [
    {
     "name": "stdout",
     "output_type": "stream",
     "text": [
      "14 e 12\n",
      "O resultado  da soma destes numeros é : 26\n"
     ]
    }
   ],
   "source": [
    "#resposta01\n",
    "n1=int(input(\"Digite o Primeiro número\")) \n",
    "n2=int(input(\"Digite o Segundo número\"))\n",
    "print(n1,\"e\",n2)\n",
    "print(f\"O resultado  da soma destes numeros é : {n1+n2}\")"
   ]
  },
  {
   "cell_type": "code",
   "execution_count": 5,
   "metadata": {},
   "outputs": [
    {
     "name": "stdout",
     "output_type": "stream",
     "text": [
      "correto\n"
     ]
    }
   ],
   "source": [
    "#resposta02\n",
    "fruta = \"banana\" \n",
    "f = input(\"Adivinhe qual é a fruta. Digite o nome aqui\").lower() #a extensão .lower() é indicada para converter letras maiusculas em minusculas.\n",
    "if f==fruta:                                                        #e o contrario é a extensão .upper()\n",
    "    print(\"correto\")\n",
    "else:\n",
    "    print(\"incorreto\")    "
   ]
  },
  {
   "cell_type": "code",
   "execution_count": 5,
   "metadata": {},
   "outputs": [
    {
     "name": "stdout",
     "output_type": "stream",
     "text": [
      "10\n",
      "Dentro do intervalo\n"
     ]
    }
   ],
   "source": [
    "#resposta03\n",
    "m1=int(input(\"Insira um Número\")) \n",
    "print(m1)\n",
    "if m1>=1 and m1<=10:\n",
    "    print(\"Dentro do intervalo\") \n",
    "else:\n",
    "    print(\"Fora do intervalo\")    \n",
    "\n"
   ]
  },
  {
   "cell_type": "code",
   "execution_count": 10,
   "metadata": {},
   "outputs": [
    {
     "name": "stdout",
     "output_type": "stream",
     "text": [
      "Saldo Negativo\n"
     ]
    }
   ],
   "source": [
    "#resposta 04\n",
    "saldo=int(input(\"Digite um valor\"))\n",
    "if saldo>0:\n",
    "    print(\"Saldo Positivo\")\n",
    "elif saldo==0:\n",
    "    print(\"Saldo Zero\")   \n",
    "else:\n",
    "    print(\"Saldo Negativo\")     \n",
    "    \n",
    "    "
   ]
  },
  {
   "cell_type": "code",
   "execution_count": 33,
   "metadata": {},
   "outputs": [
    {
     "name": "stdout",
     "output_type": "stream",
     "text": [
      "A temperatura convertida de graus Celcius para graus Fahrenheit é: 77.9\n"
     ]
    }
   ],
   "source": [
    "#resposta05\n",
    "temperatura= 25.5 #temperatura en graus Celcius.\n",
    "f=(temperatura*9)/5+32\n",
    "print (f\"A temperatura convertida de graus Celcius para graus Fahrenheit é: {f}\")"
   ]
  },
  {
   "cell_type": "code",
   "execution_count": 10,
   "metadata": {},
   "outputs": [
    {
     "name": "stdout",
     "output_type": "stream",
     "text": [
      "12\n",
      "numero par\n"
     ]
    }
   ],
   "source": [
    "N2= int(input(\"DIGITE UM nÚMERO\")) \n",
    "print(N2)\n",
    "if N2%2==0:\n",
    "    print(\"numero par\") \n",
    "else:\n",
    "    print(\"numero inpar\")    "
   ]
  },
  {
   "cell_type": "code",
   "execution_count": null,
   "metadata": {},
   "outputs": [],
   "source": [
    "#estrutura while dia 31/10/23\n",
    "x=1\n",
    "while x<=10:\n",
    "    print(x)\n",
    "    x=x+1"
   ]
  },
  {
   "cell_type": "code",
   "execution_count": null,
   "metadata": {},
   "outputs": [],
   "source": [
    "#atividade 31/10/23\n",
    "x=5\n",
    "if x<=5:\n",
    "  y=x\n",
    "  while y>=5:\n",
    "    print(y)\n",
    "    y=y+1\n",
    "    if y == 10:\n",
    "        print(\"Programa interrompido\")\n",
    "        break\n",
    "\n"
   ]
  }
 ],
 "metadata": {
  "kernelspec": {
   "display_name": "Python 3",
   "language": "python",
   "name": "python3"
  },
  "language_info": {
   "codemirror_mode": {
    "name": "ipython",
    "version": 3
   },
   "file_extension": ".py",
   "mimetype": "text/x-python",
   "name": "python",
   "nbconvert_exporter": "python",
   "pygments_lexer": "ipython3",
   "version": "3.12.0"
  }
 },
 "nbformat": 4,
 "nbformat_minor": 2
}
